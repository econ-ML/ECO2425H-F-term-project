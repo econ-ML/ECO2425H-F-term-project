{
 "cells": [
  {
   "cell_type": "code",
   "execution_count": 1,
   "id": "80199391",
   "metadata": {},
   "outputs": [],
   "source": [
    "import pandas as pd\n",
    "import seaborn as sns\n",
    "from scipy import stats\n",
    "import numpy as np\n",
    "import statsmodels.api as sm\n",
    "import statsmodels.formula.api as smf\n",
    "from statsmodels.formula.api import ols\n",
    "from matplotlib.pyplot import subplots\n",
    "import matplotlib.pyplot as plt  \n",
    "import sklearn.model_selection as skm\n",
    "from sklearn.metrics import (accuracy_score,\n",
    "                             log_loss)\n",
    "\n",
    "from sklearn.tree import (DecisionTreeClassifier as DTC,\n",
    "                          DecisionTreeRegressor as DTR,\n",
    "                          plot_tree,\n",
    "                          export_text)\n",
    "from sklearn.metrics import (accuracy_score,\n",
    "                             log_loss)\n",
    "from sklearn.ensemble import \\\n",
    "     (RandomForestRegressor as RF,\n",
    "      GradientBoostingRegressor as GBR)"
   ]
  },
  {
   "cell_type": "code",
   "execution_count": 2,
   "id": "ed778684",
   "metadata": {},
   "outputs": [
    {
     "name": "stderr",
     "output_type": "stream",
     "text": [
      "/tmp/ipykernel_70/4246522230.py:2: UnicodeWarning: \n",
      "One or more strings in the dta file could not be decoded using utf-8, and\n",
      "so the fallback encoding of latin-1 is being used.  This can happen when a file\n",
      "has been incorrectly encoded by Stata or some other software. You should verify\n",
      "the string values returned are correct.\n",
      "  df = pd.read_stata('school_intervention_panel_final.dta', convert_categoricals=False)\n"
     ]
    }
   ],
   "source": [
    "#load the datasets into a pandas DataFrame\n",
    "df = pd.read_stata('school_intervention_panel_final.dta', convert_categoricals=False)"
   ]
  },
  {
   "cell_type": "code",
   "execution_count": 3,
   "id": "aa721129",
   "metadata": {},
   "outputs": [
    {
     "name": "stdout",
     "output_type": "stream",
     "text": [
      "Student data: (70692, 212)\n",
      "id_geral            object\n",
      "cd_escola          float64\n",
      "nm_uf_bl            object\n",
      "matriculas         float64\n",
      "docentes           float64\n",
      "                    ...   \n",
      "dumm_rp_33p_fup    float32\n",
      "dumm_rp_34p_fup    float32\n",
      "dumm_rp_36p_fup    float32\n",
      "dumm_rp_37p_fup    float32\n",
      "dumm_rp_41p_fup    float32\n",
      "Length: 212, dtype: object\n"
     ]
    }
   ],
   "source": [
    "#size of the the dataset\n",
    "print(\"Student data:\", df.shape)\n",
    "#data types of all columns\n",
    "print(df.dtypes)"
   ]
  },
  {
   "cell_type": "code",
   "execution_count": 4,
   "id": "823c3437",
   "metadata": {},
   "outputs": [
    {
     "name": "stdout",
     "output_type": "stream",
     "text": [
      "['id_geral', 'cd_escola', 'nm_uf_bl', 'matriculas', 'docentes', 'abandonona1sriemdio', 'aprovaona1sriemdio', 'treatment', 'pair_all', 'treatment_workshop', 'strata', 'round', 'female_coded', 'rp_01_bl', 'rp_08_bl', 'rp_09_bl', 'rp_14_bl', 'rp_23_bl', 'rp_24_bl', 'Student: Finanical Proficieny Score (Baseline)', 'bl_test', 'rp_49_bl', 'rp_50_bl', 'rp_53_bl', 'rp_55_bl', 'rp_56_bl', 'rp_57_bl', 'rp_59_bl', 'rp_61_bl', 'rp_64_bl', 'rp_65_bl', 'rp_88_bl', 'rp_89_bl', 'rp_90_bl', 'rp_91_bl', 'rp_92_bl', 'rp_93_bl', 'rp_94_bl', 'rp_95_bl', 'rp_96_bl', 'bl_aluno', 'rp_08p_bl', 'rp_09p_bl', 'rp_14p_bl', 'rp_18p_bl', 'rp_19p_bl', 'rp_21p_bl', 'rp_23p_bl', 'rp_33p_bl', 'rp_34p_bl', 'rp_36p_bl', 'rp_37p_bl', 'vl_proficiencia_fup', 'fu1_test', 'rp_55_fup', 'rp_57_fup', 'rp_49_fup', 'rp_50_fup', 'rp_53_fup', 'rp_56_fup', 'rp_59_fup', 'rp_61_fup', 'rp_64_fup', 'rp_65_fup', 'rp_88_fup', 'rp_89_fup', 'rp_90_fup', 'rp_91_fup', 'rp_92_fup', 'rp_93_fup', 'rp_94_fup', 'rp_95_fup', 'rp_96_fup', 'fu1_aluno', 'rp_09p_fup', 'rp_14p_fup', 'rp_18p_fup', 'rp_19p_fup', 'rp_21p_fup', 'rp_23p_fup', 'rp_33p_fup', 'rp_34p_fup', 'rp_36p_fup', 'rp_37p_fup', 'fu1_responsavel', 'fu2_test', 'rp_20_fup', 'dumm_rp_20C_fup', 'rp_55_fup2', 'fu2_aluno', 'rp_12p_fup', 'dumm_rp_12Cp_fup', 'rp_08p_fup', 'rp_13p_fup', 'rp_41p_fup', 'fu2_responsavel', 'autonomia_final2_fup', 'poupar_final2_fup', 'autonomia_final2_bl', 'poupar_final2_bl', 'Student gender could not be coded based on name (Baseline)', 'Student is female (Baseline)', 'Education of mother: At least some secondary (Baseline)', 'Education of father: At least some secondary (Baseline)', \"Student's Family receives Bolsa Familia cash transfer (Baseline)\", 'Student has computer with internet at home (Baseline)', 'Student has failed at least one school year (Baseline)', 'Student is not working at the moment (Baseline)', 'Student works in own or family business (Baseline)', 'Student works as employee or other (Baseline)', 'Student receives income (Baseline)', 'Student part of income saved is non-zero (Baseline)', 'Student has borrowed money (any source) (Baseline)', 'Student is behind on payments (unconditional) (Baseline)', 'Student is behind on payments to bank or FI (Baseline)', 'Student is behind on payments to store (Baseline)', 'Student is behind on payments to family friends or other people (Baseline)', 'Student says they are a saver (Baseline)', 'Student has formal savings (Baseline)', 'Student makes a list of all monthly expenses (Baseline)', 'Student saves money for future purchases (Baseline)', 'dumm_rp_88C_bl', 'dumm_rp_88D_bl', 'dumm_rp_88AB_bl', 'dumm_rp_89C_bl', 'dumm_rp_89D_bl', 'dumm_rp_89AB_bl', 'dumm_rp_90C_bl', 'dumm_rp_90D_bl', 'dumm_rp_90AB_bl', 'dumm_rp_91C_bl', 'dumm_rp_91D_bl', 'dumm_rp_91AB_bl', 'dumm_rp_92C_bl', 'dumm_rp_92D_bl', 'dumm_rp_92AB_bl', 'Student has bought electronics shoes or clothing with credit card (Baseline)', 'Student has bought electronics shoes or clothing on installments (Baseline)', 'Student has bought electronics shoes or clothing with cash/debit card (Baseline)', 'dumm_rp_93_bl', 'dumm_rp_94_bl', 'dumm_rp_95_bl', 'dumm_rp_96_bl', 'Student negotiates prices or payment methods (Baseline)', 'Student comparison shops before making purchase (Baseline)', 'Parent has at least some secondary education (Baseline)', 'Parent is an employee (Baseline)', 'Parent is self-employeed (Baseline)', 'Parent occupation is other (homemaker, retired, unemployed, other) (Baseline)', 'Parent: makes a list of all monthly expenses (Baseline)', 'Parent: has savings account (Baseline)', 'Parent: has debit card (Baseline)', 'dumm_rp_21p_bl', 'Parent: has checks (Baseline)', ' Parent: has formal savings (Baseline)', 'Parent: Student talks to you about finances (Baseline)', 'Parent: Student helps organize HH budget (Baseline)', 'Parent: Prefers R50K plus 15 percent interest (Baseline)', 'Parent: Inflation question dummy for correct (Baseline)', 'Student is not working at the moment', 'Student works in own or family busines', 'Student works as employee or other', 'Student: Receives income', 'Student: Pct of income saved is non-zero', 'Student: Has borrowed money (any source)', 'Student: Is behind on payments (unconditional)', 'Student: Is behind on payments to bank or FI', 'Student: Is behind on payments to store', 'Student: Is behind on payments to family friends or other people', 'Student: Says they are a saver', 'Student: Has formal savings', 'I make a list of all monthly expenses', 'Student: Saves money for future purchases', 'Student: I have bought cell phone with credit card', 'Student: I have bought cell phone on installments', 'Student: I have bought a cell phone with cash/debit card', 'Student: I have bought computer with credit card', 'Student: I have bought computer on installments', 'Student: I have bought a computer with cash/debit card', 'Student: I have bought an electronic device with credit card', 'Student: I have bought an electronic device on installments', 'Student: I have bought an electronic device with cash/debit card', 'Student: I have bought shoes with credit card', 'Student: I have bought shoes on installments', 'Student: I have bought shoes with cash/debit card', 'Student: I have bought clothing with credit card', 'Student: I have bought clothing on installments', 'Student: I have bought clothing with cash/debit card', 'I have bought electronics shoes or clothing with credit card', 'I have bought electronics shoes or clothing on installments', 'I have bought electronics shoes or clothing with cash/debit card', 'I negotiate the price', 'Student I search price in different stores', 'Student I negotiate the payment method', 'Student: I search similar models/brands', 'Student Negotiates prices or payment methods', 'Student Comparison shops before making purchase', 'Parent has at least some secondary education', 'Parent is an employee', 'Student Parent is self-employeed', \"Student Parent's occupation is other (homemaker, retired, unemployed, other)\", 'Parent: makes a list of all monthly expenses', 'Parent: has checking account', 'Parent: savings account', 'Parent has debit card', 'Parent has checks', 'Parent has formal savings', 'Parent: Student talks to you about finances', 'Parent: student helps organize HH budget', 'Parent: prefers R50K plus 15 percent interest (follow up)', 'Parent: Inflation question dummy for correct  (follow up)', 'Parent: budget must have income and expenses (follow up)']\n"
     ]
    }
   ],
   "source": [
    "df = df.rename(columns={\n",
    "    'female' : 'Student is female (Baseline)',\n",
    "    'miss_f_coded' : 'Student gender could not be coded based on name (Baseline)',\n",
    "    'dumm_rp_08_bl' : 'Education of mother: At least some secondary (Baseline)',\n",
    "    'dumm_rp_09_bl' : 'Education of father: At least some secondary (Baseline)',\n",
    "    'dumm_rp_14_bl' : 'Student\\'s Family receives Bolsa Familia cash transfer (Baseline)',\n",
    "    'dumm_rp_23_bl' : 'Student has computer with internet at home (Baseline)',\n",
    "    'dumm_rp_24_bl' : 'Student has failed at least one school year (Baseline)',\n",
    "    'dumm_rp_49_bl' : 'Student is not working at the moment (Baseline)',\n",
    "    'business_bl' : 'Student works in own or family business (Baseline)',\n",
    "    'employee_bl' : 'Student works as employee or other (Baseline)',\n",
    "    'dumm_rp_50_bl' : 'Student receives income (Baseline)',\n",
    "    'dumm_rp_53B_bl' : 'Student part of income saved is non-zero (Baseline)',\n",
    "    'dumm_rp_55_bl' : 'Student has borrowed money (any source) (Baseline)',\n",
    "    'dumm_rp_56_bl' : 'Student is behind on payments (unconditional) (Baseline)',\n",
    "    'dumm_rp_57s_bl' : 'Student is behind on payments to store (Baseline)',\n",
    "    'dumm_rp_57i_bl' : 'Student is behind on payments to family friends or other people (Baseline)',\n",
    "    'dumm_rp_57f_bl' : 'Student is behind on payments to bank or FI (Baseline)',\n",
    "    'dumm_rp_59_bl' : 'Student says they are a saver (Baseline)',\n",
    "    'dumm_rp_61_bl' : 'Student has formal savings (Baseline)',\n",
    "    'dumm_rp_64A_bl' : 'Student makes a list of all monthly expenses (Baseline)',\n",
    "    'dumm_rp_65A_bl': 'Student saves money for future purchases (Baseline)',\n",
    "    'dumm_rp88__92C_bl': 'Student has bought electronics shoes or clothing with credit card (Baseline)',\n",
    "    'dumm_rp88__92D_bl': 'Student has bought electronics shoes or clothing on installments (Baseline)',\n",
    "    'dumm_rp88__92AB_bl': 'Student has bought electronics shoes or clothing with cash/debit card (Baseline)',\n",
    "    'dumm_negotiates_bl': 'Student negotiates prices or payment methods (Baseline)',\n",
    "    'dumm_search_bl': 'Student comparison shops before making purchase (Baseline)',\n",
    "    'dumm_rp_08p_bl': 'Parent has at least some secondary education (Baseline)',\n",
    "    'p_employee_bl': 'Parent is an employee (Baseline)',\n",
    "    'p_selfempl_bl': 'Parent is self-employeed (Baseline)',\n",
    "    'p_other_bl': 'Parent occupation is other (homemaker, retired, unemployed, other) (Baseline)',\n",
    "    'dumm_rp_14p_bl': 'Parent: makes a list of all monthly expenses (Baseline)',\n",
    "    'dumm_rp_18p_bl': 'Parent: has checking account (Baseline)',\n",
    "    'dumm_rp_18p_bl': 'Parent: has savings account (Baseline)',\n",
    "    'dumm_rp_19p_bl': 'Parent: has debit card (Baseline)',\n",
    "    'dumm_rp_23p_bl': 'Parent: has checks (Baseline)',\n",
    "    'dumm_formal_saving_bl':' Parent: has formal savings (Baseline)',\n",
    "    'dumm_rp_33p_bl': 'Parent: Student talks to you about finances (Baseline)',\n",
    "    'dumm_rp_34p_bl': 'Parent: Student helps organize HH budget (Baseline)',\n",
    "    'dumm_rp_36p_bl': 'Parent: Prefers R50K plus 15 percent interest (Baseline)',\n",
    "    'dumm_rp_37p_bl': 'Parent: Inflation question dummy for correct (Baseline)',\n",
    "    'vl_proficiencia_bl': 'Student: Finanical Proficieny Score (Baseline)', \n",
    "    'dumm_rp_49_fup' : \"Student is not working at the moment\" ,  \n",
    "    'business_fup' : 'Student works in own or family busines' ,\n",
    "    'employee_fup' : 'Student works as employee or other', \n",
    "    'dumm_rp_50_fup': 'Student: Receives income' ,\n",
    "     'dumm_rp_53B_fup': 'Student: Pct of income saved is non-zero', \n",
    "    'dumm_rp_55_fup': 'Student: Has borrowed money (any source)',\n",
    "    'dumm_rp_56_fup' : 'Student: Is behind on payments (unconditional)',\n",
    "    'dumm_rp_57f_fup' : 'Student: Is behind on payments to bank or FI' ,\n",
    "    'dumm_rp_57s_fup' : 'Student: Is behind on payments to store',\n",
    "    'dumm_rp_57i_fup': 'Student: Is behind on payments to family friends or other people', \n",
    "    'dumm_rp_59_fup' : 'Student: Says they are a saver' , \n",
    "    'dumm_rp_61_fup' : 'Student: Has formal savings', \n",
    "    'dumm_rp_64A_fup' : 'I make a list of all monthly expenses', \n",
    "    'dumm_rp_65A_fup' : 'Student: Saves money for future purchases',\n",
    "    'dumm_rp_88C_fup': 'Student: I have bought cell phone with credit card', \n",
    "    'dumm_rp_88D_fup': 'Student: I have bought cell phone on installments',\n",
    "    'dumm_rp_88AB_fup': 'Student: I have bought a cell phone with cash/debit card',\n",
    "    'dumm_rp_89C_fup': 'Student: I have bought computer with credit card' ,\n",
    "    'dumm_rp_89D_fup': 'Student: I have bought computer on installments' ,\n",
    "    'dumm_rp_89AB_fup': 'Student: I have bought a computer with cash/debit card' ,\n",
    "    'dumm_rp_90C_fup': 'Student: I have bought an electronic device with credit card' ,\n",
    "    'dumm_rp_90D_fup': 'Student: I have bought an electronic device on installments' ,\n",
    "    'dumm_rp_90AB_fup': 'Student: I have bought an electronic device with cash/debit card' ,\n",
    "    'dumm_rp_91C_fup': 'Student: I have bought shoes with credit card' ,\n",
    "    'dumm_rp_91D_fup': 'Student: I have bought shoes on installments' ,\n",
    "    'dumm_rp_91AB_fup': 'Student: I have bought shoes with cash/debit card',\n",
    "    'dumm_rp_92C_fup': 'Student: I have bought clothing with credit card', \n",
    "    'dumm_rp_92D_fup': 'Student: I have bought clothing on installments' ,\n",
    "    'dumm_rp_92AB_fup' : 'Student: I have bought clothing with cash/debit card',\n",
    "    'dumm_rp88__92C_fup': 'I have bought electronics shoes or clothing with credit card',\n",
    "    'dumm_rp88__92D_fup': 'I have bought electronics shoes or clothing on installments' ,\n",
    "    'dumm_rp88__92AB_fup': 'I have bought electronics shoes or clothing with cash/debit card' ,\n",
    "    'dumm_rp_93_fup': 'I negotiate the price' ,\n",
    "    'dumm_rp_94_fup': 'Student I search price in different stores',\n",
    "    'dumm_rp_95_fup': 'Student I negotiate the payment method' ,\n",
    "    'dumm_rp_96_fup': 'Student: I search similar models/brands' ,\n",
    "    'dumm_negotiates_fup': 'Student Negotiates prices or payment methods' ,\n",
    "    'dumm_search_fup': 'Student Comparison shops before making purchase' ,\n",
    "    'dumm_rp_08p_fup': 'Parent has at least some secondary education' ,\n",
    "    'p_employee_fup': 'Parent is an employee' ,\n",
    "    'p_selfempl_fup': 'Student Parent is self-employeed',\n",
    "    'p_other_fup': 'Student Parent\\'s occupation is other (homemaker, retired, unemployed, other)',\n",
    "    'dumm_rp_14p_fup': 'Parent: makes a list of all monthly expenses',\n",
    "    'dumm_rp_18p_fup' : 'Parent: has checking account', \n",
    "    'dumm_rp_19p_fup': 'Parent: savings account', \n",
    "    'dumm_rp_21p_fup': 'Parent has debit card' ,\n",
    "    'dumm_rp_23p_fup': 'Parent has checks' ,\n",
    "    'dumm_formal_saving_fup': 'Parent has formal savings',\n",
    "    'dumm_rp_33p_fup': 'Parent: Student talks to you about finances' ,\n",
    "    'dumm_rp_34p_fup': 'Parent: student helps organize HH budget',\n",
    "    'dumm_rp_36p_fup' : 'Parent: prefers R50K plus 15 percent interest (follow up)',\n",
    "    'dumm_rp_37p_fup' : 'Parent: Inflation question dummy for correct  (follow up)', \n",
    "    'dumm_rp_41p_fup' : 'Parent: budget must have income and expenses (follow up)',\n",
    "\n",
    "})\n",
    "column_names = df.columns.tolist()\n",
    "print(column_names)"
   ]
  },
  {
   "cell_type": "code",
   "execution_count": 5,
   "id": "5991306a",
   "metadata": {},
   "outputs": [
    {
     "data": {
      "text/plain": [
       "(35346, 212)"
      ]
     },
     "execution_count": 5,
     "metadata": {},
     "output_type": "execute_result"
    }
   ],
   "source": [
    "#useful subdata sets \n",
    "follow_up_1_df = df[df['round'] == 0]\n",
    "follow_up_2_df = df[df['round'] == 1]\n",
    "follow_up_2_df.shape"
   ]
  },
  {
   "cell_type": "code",
   "execution_count": 6,
   "id": "78b42a95",
   "metadata": {},
   "outputs": [
    {
     "name": "stdout",
     "output_type": "stream",
     "text": [
      "Student has bought electronics shoes or clothing with credit card (Baseline)\n",
      "0.0    18345\n",
      "1.0     6201\n",
      "Name: count, dtype: int64\n",
      "Student has bought electronics shoes or clothing with credit card (Baseline)\n",
      "0.0    0.747372\n",
      "1.0    0.252628\n",
      "Name: count, dtype: float64\n"
     ]
    }
   ],
   "source": [
    "baseline_counts = follow_up_1_df['Student has bought electronics shoes or clothing with credit card (Baseline)'].value_counts()\n",
    "print(baseline_counts)\n",
    "baseline_proportions = baseline_counts / baseline_counts.sum()\n",
    "print(baseline_proportions)"
   ]
  },
  {
   "cell_type": "code",
   "execution_count": 7,
   "id": "d9fcf1c7",
   "metadata": {},
   "outputs": [
    {
     "data": {
      "text/plain": [
       "24546"
      ]
     },
     "execution_count": 7,
     "metadata": {},
     "output_type": "execute_result"
    }
   ],
   "source": [
    "18345+6201"
   ]
  },
  {
   "cell_type": "code",
   "execution_count": 8,
   "id": "e7c6d798",
   "metadata": {},
   "outputs": [
    {
     "name": "stdout",
     "output_type": "stream",
     "text": [
      "I have bought electronics shoes or clothing with credit card\n",
      "0.0    12280\n",
      "1.0     4058\n",
      "Name: count, dtype: int64\n",
      "I have bought electronics shoes or clothing with credit card\n",
      "0.0    0.751622\n",
      "1.0    0.248378\n",
      "Name: count, dtype: float64\n"
     ]
    }
   ],
   "source": [
    "baseline_counts = follow_up_1_df['I have bought electronics shoes or clothing with credit card'].value_counts()\n",
    "print(baseline_counts)\n",
    "baseline_proportions = baseline_counts / baseline_counts.sum()\n",
    "print(baseline_proportions)"
   ]
  },
  {
   "cell_type": "code",
   "execution_count": 9,
   "id": "139ff90a",
   "metadata": {},
   "outputs": [
    {
     "data": {
      "text/plain": [
       "16338"
      ]
     },
     "execution_count": 9,
     "metadata": {},
     "output_type": "execute_result"
    }
   ],
   "source": [
    "12280+4058"
   ]
  },
  {
   "cell_type": "code",
   "execution_count": 10,
   "id": "1b526fab",
   "metadata": {},
   "outputs": [
    {
     "name": "stdout",
     "output_type": "stream",
     "text": [
      "I have bought electronics shoes or clothing with credit card\n",
      "0.0    12658\n",
      "1.0     5117\n",
      "Name: count, dtype: int64\n",
      "I have bought electronics shoes or clothing with credit card\n",
      "0.0    0.712124\n",
      "1.0    0.287876\n",
      "Name: count, dtype: float64\n"
     ]
    }
   ],
   "source": [
    "baseline_counts = follow_up_2_df['I have bought electronics shoes or clothing with credit card'].value_counts()\n",
    "print(baseline_counts)\n",
    "baseline_proportions = baseline_counts / baseline_counts.sum()\n",
    "print(baseline_proportions)"
   ]
  },
  {
   "cell_type": "code",
   "execution_count": 11,
   "id": "b10f82ad",
   "metadata": {},
   "outputs": [
    {
     "data": {
      "text/plain": [
       "17775"
      ]
     },
     "execution_count": 11,
     "metadata": {},
     "output_type": "execute_result"
    }
   ],
   "source": [
    "12658+ 5117"
   ]
  },
  {
   "cell_type": "code",
   "execution_count": 12,
   "id": "c58402dc",
   "metadata": {},
   "outputs": [
    {
     "name": "stdout",
     "output_type": "stream",
     "text": [
      "treatment\n",
      "0.0    17757\n",
      "1.0    17561\n",
      "Name: count, dtype: int64\n",
      "treatment\n",
      "0.0    0.502775\n",
      "1.0    0.497225\n",
      "Name: count, dtype: float64\n"
     ]
    }
   ],
   "source": [
    "baseline_counts = follow_up_1_df['treatment'].value_counts()\n",
    "print(baseline_counts)\n",
    "baseline_proportions = baseline_counts / baseline_counts.sum()\n",
    "print(baseline_proportions)"
   ]
  },
  {
   "cell_type": "code",
   "execution_count": 13,
   "id": "5ab98e4a",
   "metadata": {},
   "outputs": [
    {
     "data": {
      "text/plain": [
       "35318"
      ]
     },
     "execution_count": 13,
     "metadata": {},
     "output_type": "execute_result"
    }
   ],
   "source": [
    " 17757+17561"
   ]
  },
  {
   "cell_type": "code",
   "execution_count": 14,
   "id": "0a1b52df",
   "metadata": {},
   "outputs": [
    {
     "name": "stdout",
     "output_type": "stream",
     "text": [
      "treatment\n",
      "0.0    17757\n",
      "1.0    17561\n",
      "Name: count, dtype: int64\n",
      "treatment\n",
      "0.0    0.502775\n",
      "1.0    0.497225\n",
      "Name: count, dtype: float64\n"
     ]
    }
   ],
   "source": [
    "baseline_counts = follow_up_2_df['treatment'].value_counts()\n",
    "print(baseline_counts)\n",
    "baseline_proportions = baseline_counts / baseline_counts.sum()\n",
    "print(baseline_proportions)"
   ]
  },
  {
   "cell_type": "code",
   "execution_count": 20,
   "id": "bfb322e6",
   "metadata": {},
   "outputs": [
    {
     "name": "stdout",
     "output_type": "stream",
     "text": [
      "bl_aluno\n",
      "1.0    25171\n",
      "NaN    10175\n",
      "Name: count, dtype: int64\n"
     ]
    }
   ],
   "source": [
    "#Students present in the baseline survey\n",
    "print(follow_up_2_df['bl_aluno'].value_counts(dropna=False))"
   ]
  },
  {
   "cell_type": "code",
   "execution_count": 21,
   "id": "e33391f8",
   "metadata": {},
   "outputs": [
    {
     "name": "stdout",
     "output_type": "stream",
     "text": [
      "fu1_aluno\n",
      "NaN    18454\n",
      "1.0    16892\n",
      "Name: count, dtype: int64\n"
     ]
    }
   ],
   "source": [
    "#Students present in follow up survey 1 \n",
    "print(follow_up_1_df['fu1_aluno'].value_counts(dropna=False))\n"
   ]
  },
  {
   "cell_type": "code",
   "execution_count": 22,
   "id": "8f6c8289",
   "metadata": {},
   "outputs": [
    {
     "name": "stdout",
     "output_type": "stream",
     "text": [
      "fu2_aluno\n",
      "1.0    18230\n",
      "NaN    17116\n",
      "Name: count, dtype: int64\n"
     ]
    }
   ],
   "source": [
    "#Students present in follow up survey 2\n",
    "print(follow_up_2_df['fu2_aluno'].value_counts(dropna=False))"
   ]
  },
  {
   "cell_type": "code",
   "execution_count": 26,
   "id": "0687e501",
   "metadata": {},
   "outputs": [
    {
     "data": {
      "image/png": "[encoded data removed]",
      "text/plain": [
       "<Figure size 800x600 with 1 Axes>"
      ]
     },
     "metadata": {},
     "output_type": "display_data"
    }
   ],
   "source": [
    "import matplotlib.pyplot as plt\n",
    "import numpy as np\n",
    "\n",
    "# Data from the survey rounds\n",
    "categories = ['Baseline Survey', 'Follow-up Survey 1', 'Follow-up Survey 2']\n",
    "present = [25171, 16892, 18230]\n",
    "\n",
    "# Plotting\n",
    "x = np.arange(len(categories))  # label locations\n",
    "width = 0.4  # bar width\n",
    "\n",
    "fig, ax = plt.subplots(figsize=(8, 6))\n",
    "\n",
    "# Bars for students present\n",
    "g1 = ax.bar(x, present, width, label='Present', color='steelblue')\n",
    "\n",
    "# Adding labels, title, and legend\n",
    "ax.set_ylabel('Number of Students', fontsize=12)\n",
    "ax.set_xlabel('Survey Rounds', fontsize=12)\n",
    "#ax.set_title('Student Participation in Surveys', fontsize=14)\n",
    "ax.set_xticks(x)\n",
    "ax.set_xticklabels(categories)\n",
    "ax.legend(fontsize=10)\n",
    "\n",
    "# Adding data labels to bars\n",
    "for bar in g1:\n",
    "    height = bar.get_height()\n",
    "    ax.text(\n",
    "        bar.get_x() + bar.get_width() / 2, height + 300,  # Slightly above the bar with adjusted spacing\n",
    "        f'{height:,}', ha='center', va='bottom', fontsize=10\n",
    "    )\n",
    "\n",
    "# Adjusting y-axis limits to reduce blank space\n",
    "ax.set_ylim(0, max(present) + 5000)\n",
    "\n",
    "# Adjust layout\n",
    "plt.tight_layout()\n",
    "plt.show()\n",
    "\n",
    "\n"
   ]
  },
  {
   "cell_type": "code",
   "execution_count": null,
   "id": "d7f28dce",
   "metadata": {},
   "outputs": [],
   "source": []
  },
  {
   "cell_type": "code",
   "execution_count": null,
   "id": "137ddb56",
   "metadata": {},
   "outputs": [],
   "source": []
  }
 ],
 "metadata": {
  "kernelspec": {
   "display_name": "Python 3 (ipykernel)",
   "language": "python",
   "name": "python3"
  },
  "language_info": {
   "codemirror_mode": {
    "name": "ipython",
    "version": 3
   },
   "file_extension": ".py",
   "mimetype": "text/x-python",
   "name": "python",
   "nbconvert_exporter": "python",
   "pygments_lexer": "ipython3",
   "version": "3.11.6"
  }
 },
 "nbformat": 4,
 "nbformat_minor": 5
}
